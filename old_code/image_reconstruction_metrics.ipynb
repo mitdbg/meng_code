{
 "cells": [
  {
   "cell_type": "code",
   "execution_count": 1,
   "metadata": {},
   "outputs": [],
   "source": [
    "import cv2\n",
    "import numpy as np\n",
    "from skimage.metrics import structural_similarity as ssim\n",
    "from PIL import Image"
   ]
  },
  {
   "cell_type": "code",
   "execution_count": 2,
   "metadata": {},
   "outputs": [],
   "source": [
    "def calculate_psnr(imageA, imageB):\n",
    "    # Calculate the PSNR between two images. The images must be of the same dimension.\n",
    "    mse = np.mean((imageA - imageB) ** 2)\n",
    "    if mse == 0:\n",
    "        return float('inf')\n",
    "    MAX_PIXEL_VALUE = 255.0\n",
    "    return 20 * np.log10(MAX_PIXEL_VALUE / np.sqrt(mse))\n",
    "\n",
    "def calculate_mse(imageA, imageB):\n",
    "    # Calculate the MSE between two images. The images must be of the same dimension.\n",
    "    err = np.sum((imageA.astype(\"float\") - imageB.astype(\"float\")) ** 2)\n",
    "    err /= float(imageA.shape[0] * imageA.shape[1])\n",
    "    return err\n",
    "\n",
    "def calculate_ssim(imageA, imageB):\n",
    "    # Calculate the SSIM between two images. The images must be of the same dimension.\n",
    "    return ssim(imageA, imageB, multichannel=True)\n",
    "\n",
    "def resize_image(image, target_size):\n",
    "    return cv2.resize(image, target_size, interpolation=cv2.INTER_AREA)"
   ]
  },
  {
   "cell_type": "code",
   "execution_count": 3,
   "metadata": {},
   "outputs": [],
   "source": [
    "def get_metrics(folder_name):\n",
    "    psnr = []\n",
    "    mse = []\n",
    "    ssim_list = []\n",
    "    for i in range(1, 29):\n",
    "\n",
    "        # Load your images\n",
    "        imageA = cv2.imread('../plot_images/'+ str(i)+'.png')\n",
    "        imageB = cv2.imread('../results/'+folder_name+'/'+ str(i)+'.png')\n",
    "\n",
    "        # Resize images to be the same size\n",
    "        target_size = (min(imageA.shape[1], imageB.shape[1]), min(imageA.shape[0], imageB.shape[0]))\n",
    "        imageA_resized = resize_image(imageA, target_size)\n",
    "        imageB_resized = resize_image(imageB, target_size)\n",
    "\n",
    "        # Convert images to grayscale for SSIM\n",
    "        grayA = cv2.cvtColor(imageA_resized, cv2.COLOR_BGR2GRAY)\n",
    "        grayB = cv2.cvtColor(imageB_resized, cv2.COLOR_BGR2GRAY)\n",
    "\n",
    "        # Calculate metrics\n",
    "        psnr_value = calculate_psnr(imageA_resized, imageB_resized)\n",
    "        mse_value = calculate_mse(imageA_resized, imageB_resized)\n",
    "        ssim_value = calculate_ssim(grayA, grayB)\n",
    "\n",
    "        psnr.append(psnr_value)\n",
    "        mse.append(mse_value)\n",
    "        ssim_list.append(ssim_value)\n",
    "    \n",
    "    psnr_metric = sum(psnr) / len(psnr)\n",
    "    mse_metric = sum(mse) / len(mse)\n",
    "    ssim_metric = sum(ssim_list) / len(ssim_list)\n",
    "    return psnr_metric, mse_metric, ssim_metric"
   ]
  },
  {
   "cell_type": "code",
   "execution_count": 4,
   "metadata": {},
   "outputs": [
    {
     "name": "stdout",
     "output_type": "stream",
     "text": [
      "Folder Name: cosine\n",
      "Average PSNR: 35.09663749067515\n",
      "Average MSE: 25825.421013657742\n",
      "Average SSIM: 0.545552415204156\n"
     ]
    }
   ],
   "source": [
    "for folder in [\n",
    "    # 'kdtree_contrast', \n",
    "    # 'euclidean', \n",
    "    'cosine'\n",
    "]:\n",
    "    psnr_metric, mse_metric, ssim_metric = get_metrics(folder)\n",
    "    print(f\"Folder Name: {folder}\")\n",
    "    print(f\"Average PSNR: {psnr_metric}\")\n",
    "    print(f\"Average MSE: {mse_metric}\")\n",
    "    print(f\"Average SSIM: {ssim_metric}\")"
   ]
  },
  {
   "cell_type": "code",
   "execution_count": null,
   "metadata": {},
   "outputs": [],
   "source": []
  }
 ],
 "metadata": {
  "kernelspec": {
   "display_name": "Python 3",
   "language": "python",
   "name": "python3"
  },
  "language_info": {
   "codemirror_mode": {
    "name": "ipython",
    "version": 3
   },
   "file_extension": ".py",
   "mimetype": "text/x-python",
   "name": "python",
   "nbconvert_exporter": "python",
   "pygments_lexer": "ipython3",
   "version": "3.9.6"
  }
 },
 "nbformat": 4,
 "nbformat_minor": 2
}
