{
 "cells": [
  {
   "cell_type": "code",
   "execution_count": 11,
   "metadata": {},
   "outputs": [],
   "source": [
    "from open_flamingo import create_model_and_transforms\n",
    "from huggingface_hub import hf_hub_download\n",
    "import torch\n",
    "from PIL import Image\n",
    "import requests\n",
    "import torch\n",
    "import json\n",
    "import random"
   ]
  },
  {
   "cell_type": "code",
   "execution_count": 12,
   "metadata": {},
   "outputs": [],
   "source": [
    "def model_setup():\n",
    "    model, image_processor, tokenizer = create_model_and_transforms(\n",
    "        clip_vision_encoder_path=\"ViT-L-14\",\n",
    "        clip_vision_encoder_pretrained=\"openai\",\n",
    "        lang_encoder_path=\"anas-awadalla/mpt-1b-redpajama-200b\",\n",
    "        tokenizer_path=\"anas-awadalla/mpt-1b-redpajama-200b\",\n",
    "        cross_attn_every_n_layers=1\n",
    "    )\n",
    "\n",
    "    checkpoint_path = hf_hub_download(\"openflamingo/OpenFlamingo-3B-vitl-mpt1b\", \"checkpoint.pt\")\n",
    "    model.load_state_dict(torch.load(checkpoint_path), strict=False)\n",
    "    \n",
    "    return model, image_processor, tokenizer"
   ]
  },
  {
   "cell_type": "code",
   "execution_count": 13,
   "metadata": {},
   "outputs": [],
   "source": [
    "def getImage(num, annotated):\n",
    "    if annotated:\n",
    "        return Image.open(\"../ai2d/annotated_images/\" + str(num) + \".png\")\n",
    "    return Image.open(\"../ai2d/images/\" + str(num) + \".png\")"
   ]
  },
  {
   "cell_type": "code",
   "execution_count": 14,
   "metadata": {},
   "outputs": [],
   "source": [
    "def getQuestion(num):\n",
    "    f = open(\"../ai2d/questions/\" + str(num) + \".png.json\")\n",
    " \n",
    "    # returns JSON object as a dictionary\n",
    "    data = json.load(f)\n",
    "    \n",
    "    dictionary = data[\"questions\"]\n",
    "    question = list(dictionary.keys())[0]\n",
    "\n",
    "    correctAnswerIndex = dictionary[question][\"correctAnswer\"]\n",
    "    correctAnswer = dictionary[question][\"answerTexts\"][correctAnswerIndex]\n",
    "\n",
    "    # Closing file\n",
    "    f.close()\n",
    "\n",
    "    return question, correctAnswer"
   ]
  },
  {
   "cell_type": "code",
   "execution_count": 15,
   "metadata": {},
   "outputs": [],
   "source": [
    "def preprocessImage(image_processor, image):\n",
    "    vision_x = [image_processor(image).unsqueeze(0)]\n",
    "    vision_x = torch.cat(vision_x, dim=0)\n",
    "    vision_x = vision_x.unsqueeze(1).unsqueeze(0)\n",
    "    return vision_x"
   ]
  },
  {
   "cell_type": "code",
   "execution_count": 16,
   "metadata": {},
   "outputs": [],
   "source": [
    "def preprocessText(tokenizer, question):\n",
    "    lang_x = tokenizer(\n",
    "        [\"<image>\" + question + \" The answer is\"],\n",
    "        return_tensors=\"pt\",\n",
    "    )\n",
    "    return lang_x"
   ]
  },
  {
   "cell_type": "code",
   "execution_count": null,
   "metadata": {},
   "outputs": [],
   "source": [
    "from store_annotations import annotate\n",
    "\n",
    "for i in range(2557, 4097):\n",
    "    print(i)\n",
    "    ann_path = \"../ai2d/annotations/\"+str(i)+\".png.json\"\n",
    "    img_path = \"../ai2d/images/\"+str(i)+\".png\"\n",
    "    out_path = \"../ai2d/annotated_images/\"+str(i)+\".png\"\n",
    "    annotate(ann_path, img_path, out_path)"
   ]
  },
  {
   "cell_type": "code",
   "execution_count": 17,
   "metadata": {},
   "outputs": [],
   "source": [
    "def generate_text(model, vision_x, lang_x, tokenizer):\n",
    "    generated_text = model.generate(\n",
    "        vision_x=vision_x,\n",
    "        lang_x=lang_x[\"input_ids\"],\n",
    "        attention_mask=lang_x[\"attention_mask\"],\n",
    "        max_new_tokens=20,\n",
    "        num_beams=3,\n",
    "    )\n",
    "    return tokenizer.decode(generated_text[0])"
   ]
  },
  {
   "cell_type": "code",
   "execution_count": 18,
   "metadata": {},
   "outputs": [
    {
     "name": "stderr",
     "output_type": "stream",
     "text": [
      "Using pad_token, but it is not set yet.\n"
     ]
    },
    {
     "name": "stdout",
     "output_type": "stream",
     "text": [
      "You are using config.init_device='cpu', but you can also use config.init_device=\"meta\" with Composer + FSDP for fast initialization.\n"
     ]
    },
    {
     "name": "stderr",
     "output_type": "stream",
     "text": [
      "You are resizing the embedding layer without providing a `pad_to_multiple_of` parameter. This means that the new embedding dimension will be 50280. This might induce some performance reduction as *Tensor Cores* will not be available. For more details about this, or help on choosing the correct value for resizing, refer to this guide: https://docs.nvidia.com/deeplearning/performance/dl-performance-matrix-multiplication/index.html#requirements-tc\n"
     ]
    },
    {
     "name": "stdout",
     "output_type": "stream",
     "text": [
      "Flamingo model initialized with 1046992944 trainable parameters\n"
     ]
    }
   ],
   "source": [
    "model, image_processor, tokenizer = model_setup()\n",
    "tokenizer.padding_side = \"left\""
   ]
  },
  {
   "cell_type": "code",
   "execution_count": 29,
   "metadata": {},
   "outputs": [
    {
     "name": "stdout",
     "output_type": "stream",
     "text": [
      "Image 2073\n",
      "Based on the above food web, what will happen if the number of algae decreases.\n",
      "REGULAR\n"
     ]
    },
    {
     "name": "stderr",
     "output_type": "stream",
     "text": [
      "Setting `pad_token_id` to `eos_token_id`:50277 for open-end generation.\n"
     ]
    },
    {
     "name": "stdout",
     "output_type": "stream",
     "text": [
      "Image 1129\n",
      "Which forms the calyx of a flower?\n",
      "REGULAR\n"
     ]
    },
    {
     "name": "stderr",
     "output_type": "stream",
     "text": [
      "Setting `pad_token_id` to `eos_token_id`:50277 for open-end generation.\n"
     ]
    },
    {
     "name": "stdout",
     "output_type": "stream",
     "text": [
      "<image>Which forms the calyx of a flower? The answer is the pistil.<|endofchunk|>\n",
      "ANNOTATED\n"
     ]
    },
    {
     "name": "stderr",
     "output_type": "stream",
     "text": [
      "Setting `pad_token_id` to `eos_token_id`:50277 for open-end generation.\n"
     ]
    },
    {
     "name": "stdout",
     "output_type": "stream",
     "text": [
      "<image>Which forms the calyx of a flower? The answer is the pistil.<|endofchunk|>\n",
      "CORRECT sepal\n",
      "Image 733\n",
      "What comes out of the larval stage?\n",
      "REGULAR\n"
     ]
    },
    {
     "name": "stderr",
     "output_type": "stream",
     "text": [
      "Setting `pad_token_id` to `eos_token_id`:50277 for open-end generation.\n"
     ]
    },
    {
     "name": "stdout",
     "output_type": "stream",
     "text": [
      "<image>What comes out of the larval stage? The answer is the pupa.<|endofchunk|>\n",
      "ANNOTATED\n"
     ]
    },
    {
     "name": "stderr",
     "output_type": "stream",
     "text": [
      "Setting `pad_token_id` to `eos_token_id`:50277 for open-end generation.\n"
     ]
    },
    {
     "name": "stdout",
     "output_type": "stream",
     "text": [
      "<image>What comes out of the larval stage? The answer is a butterfly.<|endofchunk|>\n",
      "CORRECT Pupa.\n",
      "Image 920\n",
      "Image 1898\n",
      "According to the given food web, what are the consequences if all the fruits are plucked by humans?\n",
      "REGULAR\n"
     ]
    },
    {
     "name": "stderr",
     "output_type": "stream",
     "text": [
      "Setting `pad_token_id` to `eos_token_id`:50277 for open-end generation.\n"
     ]
    },
    {
     "name": "stdout",
     "output_type": "stream",
     "text": [
      "<image>According to the given food web, what are the consequences if all the fruits are plucked by humans? The answer is given below.<|endofchunk|>\n",
      "ANNOTATED\n"
     ]
    },
    {
     "name": "stderr",
     "output_type": "stream",
     "text": [
      "Setting `pad_token_id` to `eos_token_id`:50277 for open-end generation.\n"
     ]
    },
    {
     "name": "stdout",
     "output_type": "stream",
     "text": [
      "<image>According to the given food web, what are the consequences if all the fruits are plucked by humans? The answer is given below.<|endofchunk|>\n",
      "CORRECT Acorns will suffer from loss of energy.\n",
      "Image 1863\n",
      "According to the given food web, select the correct pair\n",
      "REGULAR\n"
     ]
    },
    {
     "name": "stderr",
     "output_type": "stream",
     "text": [
      "Setting `pad_token_id` to `eos_token_id`:50277 for open-end generation.\n"
     ]
    },
    {
     "name": "stdout",
     "output_type": "stream",
     "text": [
      "<image>According to the given food web, select the correct pair The answer is:<|endofchunk|>\n",
      "ANNOTATED\n"
     ]
    },
    {
     "name": "stderr",
     "output_type": "stream",
     "text": [
      "Setting `pad_token_id` to `eos_token_id`:50277 for open-end generation.\n"
     ]
    },
    {
     "name": "stdout",
     "output_type": "stream",
     "text": [
      "<image>According to the given food web, select the correct pair The answer is<|endofchunk|>\n",
      "CORRECT Algae-producer\n",
      "Image 1156\n",
      "What part is between the ovary and the stigma?\n",
      "REGULAR\n"
     ]
    },
    {
     "name": "stderr",
     "output_type": "stream",
     "text": [
      "Setting `pad_token_id` to `eos_token_id`:50277 for open-end generation.\n"
     ]
    },
    {
     "name": "stdout",
     "output_type": "stream",
     "text": [
      "<image>What part is between the ovary and the stigma? The answer is the stigma.<|endofchunk|>\n",
      "ANNOTATED\n"
     ]
    },
    {
     "name": "stderr",
     "output_type": "stream",
     "text": [
      "Setting `pad_token_id` to `eos_token_id`:50277 for open-end generation.\n"
     ]
    },
    {
     "name": "stdout",
     "output_type": "stream",
     "text": [
      "<image>What part is between the ovary and the stigma? The answer is the stigma.<|endofchunk|>\n",
      "CORRECT Style.\n",
      "Image 573\n",
      "By what process is the flowering stage brought about?\n",
      "REGULAR\n"
     ]
    },
    {
     "name": "stderr",
     "output_type": "stream",
     "text": [
      "Setting `pad_token_id` to `eos_token_id`:50277 for open-end generation.\n"
     ]
    },
    {
     "name": "stdout",
     "output_type": "stream",
     "text": [
      "<image>By what process is the flowering stage brought about? The answer is that the flowering stage is brought about by the process of photosynthesis. Photosynthesis is the process by\n",
      "ANNOTATED\n"
     ]
    },
    {
     "name": "stderr",
     "output_type": "stream",
     "text": [
      "Setting `pad_token_id` to `eos_token_id`:50277 for open-end generation.\n"
     ]
    },
    {
     "name": "stdout",
     "output_type": "stream",
     "text": [
      "<image>By what process is the flowering stage brought about? The answer is that the flowering stage is brought about by the process of photosynthesis. Photosynthesis is the process by\n",
      "CORRECT Flower Forcing\n",
      "Image 2138\n",
      "At what phase will the black fly gain wings?\n",
      "REGULAR\n"
     ]
    },
    {
     "name": "stderr",
     "output_type": "stream",
     "text": [
      "Setting `pad_token_id` to `eos_token_id`:50277 for open-end generation.\n"
     ]
    },
    {
     "name": "stdout",
     "output_type": "stream",
     "text": [
      "<image>At what phase will the black fly gain wings? The answer is that the black fly will not gain wings until it is fully grown.<|endofchunk|>\n",
      "ANNOTATED\n"
     ]
    },
    {
     "name": "stderr",
     "output_type": "stream",
     "text": [
      "Setting `pad_token_id` to `eos_token_id`:50277 for open-end generation.\n"
     ]
    },
    {
     "name": "stdout",
     "output_type": "stream",
     "text": [
      "<image>At what phase will the black fly gain wings? The answer is that the black fly will not gain wings until it is in the larval stage. The black fly is\n",
      "CORRECT Adult stage\n",
      "Image 1459\n",
      "DESCRIBE THE LABEL C IN DIAGRAM?\n",
      "REGULAR\n"
     ]
    },
    {
     "name": "stderr",
     "output_type": "stream",
     "text": [
      "Setting `pad_token_id` to `eos_token_id`:50277 for open-end generation.\n"
     ]
    },
    {
     "name": "stdout",
     "output_type": "stream",
     "text": [
      "<image>DESCRIBE THE LABEL C IN DIAGRAM? The answer is: the label C in the diagram is the collapse of the mountain.<|endofchunk|>\n",
      "ANNOTATED\n"
     ]
    },
    {
     "name": "stderr",
     "output_type": "stream",
     "text": [
      "Setting `pad_token_id` to `eos_token_id`:50277 for open-end generation.\n"
     ]
    },
    {
     "name": "stdout",
     "output_type": "stream",
     "text": [
      "<image>DESCRIBE THE LABEL C IN DIAGRAM? The answer is yes.<|endofchunk|>\n",
      "CORRECT FORMATION OF CRATER LAKE AND WIZARD ISLAND\n",
      "Image 1983\n",
      "In this diagram, man is\n",
      "REGULAR\n"
     ]
    },
    {
     "name": "stderr",
     "output_type": "stream",
     "text": [
      "Setting `pad_token_id` to `eos_token_id`:50277 for open-end generation.\n"
     ]
    },
    {
     "name": "stdout",
     "output_type": "stream",
     "text": [
      "<image>In this diagram, man is The answer is man.<|endofchunk|>\n",
      "ANNOTATED\n"
     ]
    },
    {
     "name": "stderr",
     "output_type": "stream",
     "text": [
      "Setting `pad_token_id` to `eos_token_id`:50277 for open-end generation.\n"
     ]
    },
    {
     "name": "stdout",
     "output_type": "stream",
     "text": [
      "<image>In this diagram, man is The answer is in the middle of the tree.<|endofchunk|>\n",
      "CORRECT predator\n",
      "Image 226\n",
      "Image 946\n",
      "What animal is shown at letter D?\n",
      "REGULAR\n"
     ]
    },
    {
     "name": "stderr",
     "output_type": "stream",
     "text": [
      "Setting `pad_token_id` to `eos_token_id`:50277 for open-end generation.\n"
     ]
    },
    {
     "name": "stdout",
     "output_type": "stream",
     "text": [
      "<image>What animal is shown at letter D? The answer is a bird.<|endofchunk|>\n",
      "ANNOTATED\n"
     ]
    },
    {
     "name": "stderr",
     "output_type": "stream",
     "text": [
      "Setting `pad_token_id` to `eos_token_id`:50277 for open-end generation.\n"
     ]
    },
    {
     "name": "stdout",
     "output_type": "stream",
     "text": [
      "<image>What animal is shown at letter D? The answer is a bird.<|endofchunk|>\n",
      "CORRECT Duck\n",
      "Image 710\n",
      "Image 979\n",
      "Which fern is an evergreen fern?\n",
      "REGULAR\n"
     ]
    },
    {
     "name": "stderr",
     "output_type": "stream",
     "text": [
      "Setting `pad_token_id` to `eos_token_id`:50277 for open-end generation.\n"
     ]
    },
    {
     "name": "stdout",
     "output_type": "stream",
     "text": [
      "<image>Which fern is an evergreen fern? The answer is Polypody.<|endofchunk|>\n",
      "ANNOTATED\n"
     ]
    },
    {
     "name": "stderr",
     "output_type": "stream",
     "text": [
      "Setting `pad_token_id` to `eos_token_id`:50277 for open-end generation.\n"
     ]
    },
    {
     "name": "stdout",
     "output_type": "stream",
     "text": [
      "<image>Which fern is an evergreen fern? The answer is ferns are evergreen ferns. Evergreen ferns do not lose their leaves\n",
      "CORRECT Christmas Fern\n",
      "Image 658\n",
      "Image 387\n",
      "Image 1386\n",
      "What is the bottom-most opening in the figure?\n",
      "REGULAR\n"
     ]
    },
    {
     "name": "stderr",
     "output_type": "stream",
     "text": [
      "Setting `pad_token_id` to `eos_token_id`:50277 for open-end generation.\n"
     ]
    },
    {
     "name": "stdout",
     "output_type": "stream",
     "text": [
      "<image>What is the bottom-most opening in the figure? The answer is the stomach.<|endofchunk|>\n",
      "ANNOTATED\n"
     ]
    },
    {
     "name": "stderr",
     "output_type": "stream",
     "text": [
      "Setting `pad_token_id` to `eos_token_id`:50277 for open-end generation.\n"
     ]
    },
    {
     "name": "stdout",
     "output_type": "stream",
     "text": [
      "<image>What is the bottom-most opening in the figure? The answer is at the bottom-most opening in the figure. The answer is at the bottom-most opening in\n",
      "CORRECT anus\n",
      "Image 580\n",
      "What does the given diagram depict?\n",
      "REGULAR\n"
     ]
    },
    {
     "name": "stderr",
     "output_type": "stream",
     "text": [
      "Setting `pad_token_id` to `eos_token_id`:50277 for open-end generation.\n"
     ]
    },
    {
     "name": "stdout",
     "output_type": "stream",
     "text": [
      "<image>What does the given diagram depict? The answer is: a frog.<|endofchunk|>\n",
      "ANNOTATED\n"
     ]
    },
    {
     "name": "stderr",
     "output_type": "stream",
     "text": [
      "Setting `pad_token_id` to `eos_token_id`:50277 for open-end generation.\n"
     ]
    },
    {
     "name": "stdout",
     "output_type": "stream",
     "text": [
      "<image>What does the given diagram depict? The answer is in the answer key at the bottom of the page.<|endofchunk|>\n",
      "CORRECT The frog life cycle\n",
      "Image 70\n",
      "What do animals respire into the air?\n",
      "REGULAR\n"
     ]
    },
    {
     "name": "stderr",
     "output_type": "stream",
     "text": [
      "Setting `pad_token_id` to `eos_token_id`:50277 for open-end generation.\n"
     ]
    },
    {
     "name": "stdout",
     "output_type": "stream",
     "text": [
      "<image>What do animals respire into the air? The answer is carbon dioxide.<|endofchunk|>\n",
      "ANNOTATED\n"
     ]
    },
    {
     "name": "stderr",
     "output_type": "stream",
     "text": [
      "Setting `pad_token_id` to `eos_token_id`:50277 for open-end generation.\n"
     ]
    },
    {
     "name": "stdout",
     "output_type": "stream",
     "text": [
      "<image>What do animals respire into the air? The answer is carbon dioxide.<|endofchunk|>\n",
      "CORRECT Carbon Dioxide\n",
      "Image 1780\n",
      "Image 370\n",
      "Image 2539\n",
      "The diagram shows the phases of the  moon. Which phase is depicted at C?\n",
      "REGULAR\n"
     ]
    },
    {
     "name": "stderr",
     "output_type": "stream",
     "text": [
      "Setting `pad_token_id` to `eos_token_id`:50277 for open-end generation.\n"
     ]
    },
    {
     "name": "stdout",
     "output_type": "stream",
     "text": [
      "<image>The diagram shows the phases of the  moon. Which phase is depicted at C? The answer is B.<|endofchunk|>\n",
      "ANNOTATED\n"
     ]
    },
    {
     "name": "stderr",
     "output_type": "stream",
     "text": [
      "Setting `pad_token_id` to `eos_token_id`:50277 for open-end generation.\n"
     ]
    },
    {
     "name": "stdout",
     "output_type": "stream",
     "text": [
      "<image>The diagram shows the phases of the  moon. Which phase is depicted at C? The answer is B.<|endofchunk|>\n",
      "CORRECT Waning Crescent\n",
      "Image 2475\n",
      "WHICH STAGE APPEARS IN WINTER?\n",
      "REGULAR\n"
     ]
    },
    {
     "name": "stderr",
     "output_type": "stream",
     "text": [
      "Setting `pad_token_id` to `eos_token_id`:50277 for open-end generation.\n"
     ]
    },
    {
     "name": "stdout",
     "output_type": "stream",
     "text": [
      "<image>WHICH STAGE APPEARS IN WINTER? The answer is: all of them!<|endofchunk|>\n",
      "ANNOTATED\n"
     ]
    },
    {
     "name": "stderr",
     "output_type": "stream",
     "text": [
      "Setting `pad_token_id` to `eos_token_id`:50277 for open-end generation.\n"
     ]
    },
    {
     "name": "stdout",
     "output_type": "stream",
     "text": [
      "<image>WHICH STAGE APPEARS IN WINTER? The answer is B.<|endofchunk|>\n",
      "CORRECT QUEEN HIBERNATES\n",
      "Image 2238\n",
      "Do grasshoppers lay eggs?\n",
      "REGULAR\n"
     ]
    },
    {
     "name": "stderr",
     "output_type": "stream",
     "text": [
      "Setting `pad_token_id` to `eos_token_id`:50277 for open-end generation.\n"
     ]
    },
    {
     "name": "stdout",
     "output_type": "stream",
     "text": [
      "<image>Do grasshoppers lay eggs? The answer is yes.<|endofchunk|>\n",
      "ANNOTATED\n"
     ]
    },
    {
     "name": "stderr",
     "output_type": "stream",
     "text": [
      "Setting `pad_token_id` to `eos_token_id`:50277 for open-end generation.\n"
     ]
    },
    {
     "name": "stdout",
     "output_type": "stream",
     "text": [
      "<image>Do grasshoppers lay eggs? The answer is yes.<|endofchunk|>\n",
      "CORRECT Yes\n",
      "Image 1478\n",
      "Evaporation is represented at which letter?\n",
      "REGULAR\n"
     ]
    },
    {
     "name": "stderr",
     "output_type": "stream",
     "text": [
      "Setting `pad_token_id` to `eos_token_id`:50277 for open-end generation.\n"
     ]
    },
    {
     "name": "stdout",
     "output_type": "stream",
     "text": [
      "<image>Evaporation is represented at which letter? The answer is B.<|endofchunk|>\n",
      "ANNOTATED\n"
     ]
    },
    {
     "name": "stderr",
     "output_type": "stream",
     "text": [
      "Setting `pad_token_id` to `eos_token_id`:50277 for open-end generation.\n"
     ]
    },
    {
     "name": "stdout",
     "output_type": "stream",
     "text": [
      "<image>Evaporation is represented at which letter? The answer is B.<|endofchunk|>\n",
      "CORRECT A\n",
      "Image 1629\n",
      "Label C represents\n",
      "REGULAR\n"
     ]
    },
    {
     "name": "stderr",
     "output_type": "stream",
     "text": [
      "Setting `pad_token_id` to `eos_token_id`:50277 for open-end generation.\n"
     ]
    },
    {
     "name": "stdout",
     "output_type": "stream",
     "text": [
      "<image>Label C represents The answer is Moon<|endofchunk|>\n",
      "ANNOTATED\n"
     ]
    },
    {
     "name": "stderr",
     "output_type": "stream",
     "text": [
      "Setting `pad_token_id` to `eos_token_id`:50277 for open-end generation.\n"
     ]
    },
    {
     "name": "stdout",
     "output_type": "stream",
     "text": [
      "<image>Label C represents The answer is B. Label D represents The answer is C. Label E represents The answer is D. Label F\n",
      "CORRECT Earth\n",
      "Image 1761\n",
      "From the above food web diagram, if all grass dies then population of mouse will\n",
      "REGULAR\n"
     ]
    },
    {
     "name": "stderr",
     "output_type": "stream",
     "text": [
      "Setting `pad_token_id` to `eos_token_id`:50277 for open-end generation.\n"
     ]
    },
    {
     "name": "stdout",
     "output_type": "stream",
     "text": [
      "<image>From the above food web diagram, if all grass dies then population of mouse will The answer is no.<|endofchunk|>\n",
      "ANNOTATED\n"
     ]
    },
    {
     "name": "stderr",
     "output_type": "stream",
     "text": [
      "Setting `pad_token_id` to `eos_token_id`:50277 for open-end generation.\n"
     ]
    },
    {
     "name": "stdout",
     "output_type": "stream",
     "text": [
      "<image>From the above food web diagram, if all grass dies then population of mouse will The answer is no.<|endofchunk|>\n",
      "CORRECT decrease\n",
      "Image 1719\n",
      "which label is give to thrust?\n",
      "REGULAR\n"
     ]
    },
    {
     "name": "stderr",
     "output_type": "stream",
     "text": [
      "Setting `pad_token_id` to `eos_token_id`:50277 for open-end generation.\n"
     ]
    },
    {
     "name": "stdout",
     "output_type": "stream",
     "text": [
      "<image>which label is give to thrust? The answer is thrust.<|endofchunk|>\n",
      "ANNOTATED\n"
     ]
    },
    {
     "name": "stderr",
     "output_type": "stream",
     "text": [
      "Setting `pad_token_id` to `eos_token_id`:50277 for open-end generation.\n"
     ]
    },
    {
     "name": "stdout",
     "output_type": "stream",
     "text": [
      "<image>which label is give to thrust? The answer is that the thrust is given by the weight of the ship. The weight of the ship is given by\n",
      "CORRECT d\n",
      "Image 1076\n",
      "Image 308\n",
      "According to the given food chain, what will happen if seeds were not present in this food chain?\n",
      "REGULAR\n"
     ]
    },
    {
     "name": "stderr",
     "output_type": "stream",
     "text": [
      "Setting `pad_token_id` to `eos_token_id`:50277 for open-end generation.\n"
     ]
    },
    {
     "name": "stdout",
     "output_type": "stream",
     "text": [
      "<image>According to the given food chain, what will happen if seeds were not present in this food chain? The answer is given below.<|endofchunk|>\n",
      "ANNOTATED\n"
     ]
    },
    {
     "name": "stderr",
     "output_type": "stream",
     "text": [
      "Setting `pad_token_id` to `eos_token_id`:50277 for open-end generation.\n"
     ]
    },
    {
     "name": "stdout",
     "output_type": "stream",
     "text": [
      "<image>According to the given food chain, what will happen if seeds were not present in this food chain? The answer is given below.<|endofchunk|>\n",
      "CORRECT Population of grouse and chipmunk would decrease.\n",
      "Image 1836\n",
      "What doe the grashopper need for nourishment?\n",
      "REGULAR\n"
     ]
    },
    {
     "name": "stderr",
     "output_type": "stream",
     "text": [
      "Setting `pad_token_id` to `eos_token_id`:50277 for open-end generation.\n"
     ]
    },
    {
     "name": "stdout",
     "output_type": "stream",
     "text": [
      "<image>What doe the grashopper need for nourishment? The answer is food chain.<|endofchunk|>\n",
      "ANNOTATED\n"
     ]
    },
    {
     "name": "stderr",
     "output_type": "stream",
     "text": [
      "Setting `pad_token_id` to `eos_token_id`:50277 for open-end generation.\n"
     ]
    },
    {
     "name": "stdout",
     "output_type": "stream",
     "text": [
      "<image>What doe the grashopper need for nourishment? The answer is not as simple as you might think.<|endofchunk|>\n",
      "CORRECT grass\n",
      "Image 2224\n",
      "The diagram depicts the life cycle of a butterfly. Which letter in the diagram represents the larva?\n",
      "REGULAR\n"
     ]
    },
    {
     "name": "stderr",
     "output_type": "stream",
     "text": [
      "Setting `pad_token_id` to `eos_token_id`:50277 for open-end generation.\n"
     ]
    },
    {
     "name": "stdout",
     "output_type": "stream",
     "text": [
      "<image>The diagram depicts the life cycle of a butterfly. Which letter in the diagram represents the larva? The answer is B.<|endofchunk|>\n",
      "ANNOTATED\n"
     ]
    },
    {
     "name": "stderr",
     "output_type": "stream",
     "text": [
      "Setting `pad_token_id` to `eos_token_id`:50277 for open-end generation.\n"
     ]
    },
    {
     "name": "stdout",
     "output_type": "stream",
     "text": [
      "<image>The diagram depicts the life cycle of a butterfly. Which letter in the diagram represents the larva? The answer is B.<|endofchunk|>\n",
      "CORRECT D\n",
      "Image 28\n",
      "Based on the diagram below, how many different food sources does the trout have?\n",
      "REGULAR\n"
     ]
    },
    {
     "name": "stderr",
     "output_type": "stream",
     "text": [
      "Setting `pad_token_id` to `eos_token_id`:50277 for open-end generation.\n"
     ]
    },
    {
     "name": "stdout",
     "output_type": "stream",
     "text": [
      "<image>Based on the diagram below, how many different food sources does the trout have? The answer is 4.<|endofchunk|>\n",
      "ANNOTATED\n"
     ]
    },
    {
     "name": "stderr",
     "output_type": "stream",
     "text": [
      "Setting `pad_token_id` to `eos_token_id`:50277 for open-end generation.\n"
     ]
    },
    {
     "name": "stdout",
     "output_type": "stream",
     "text": [
      "<image>Based on the diagram below, how many different food sources does the trout have? The answer is 2.<|endofchunk|>\n",
      "CORRECT three\n",
      "Image 83\n",
      "Night is experienced by the part of the Earth that is farthest from the sun. Which letter represents night?\n",
      "REGULAR\n"
     ]
    },
    {
     "name": "stderr",
     "output_type": "stream",
     "text": [
      "Setting `pad_token_id` to `eos_token_id`:50277 for open-end generation.\n"
     ]
    },
    {
     "name": "stdout",
     "output_type": "stream",
     "text": [
      "<image>Night is experienced by the part of the Earth that is farthest from the sun. Which letter represents night? The answer is B.<|endofchunk|>\n",
      "ANNOTATED\n"
     ]
    },
    {
     "name": "stderr",
     "output_type": "stream",
     "text": [
      "Setting `pad_token_id` to `eos_token_id`:50277 for open-end generation.\n"
     ]
    },
    {
     "name": "stdout",
     "output_type": "stream",
     "text": [
      "<image>Night is experienced by the part of the Earth that is farthest from the sun. Which letter represents night? The answer is B.<|endofchunk|>\n",
      "CORRECT E\n",
      "Image 135\n",
      "Which diagram letter shows the moon in the first quarter?\n",
      "REGULAR\n"
     ]
    },
    {
     "name": "stderr",
     "output_type": "stream",
     "text": [
      "Setting `pad_token_id` to `eos_token_id`:50277 for open-end generation.\n"
     ]
    },
    {
     "name": "stdout",
     "output_type": "stream",
     "text": [
      "<image>Which diagram letter shows the moon in the first quarter? The answer is B.<|endofchunk|>\n",
      "ANNOTATED\n"
     ]
    },
    {
     "name": "stderr",
     "output_type": "stream",
     "text": [
      "Setting `pad_token_id` to `eos_token_id`:50277 for open-end generation.\n"
     ]
    },
    {
     "name": "stdout",
     "output_type": "stream",
     "text": [
      "<image>Which diagram letter shows the moon in the first quarter? The answer is B.<|endofchunk|>\n",
      "CORRECT Letter J\n",
      "Image 761\n",
      "In the diagram, letters A, B, C and D show stages in the moon's cycle around the earth. Which letter shows apogee?\n",
      "REGULAR\n"
     ]
    },
    {
     "name": "stderr",
     "output_type": "stream",
     "text": [
      "Setting `pad_token_id` to `eos_token_id`:50277 for open-end generation.\n"
     ]
    },
    {
     "name": "stdout",
     "output_type": "stream",
     "text": [
      "<image>In the diagram, letters A, B, C and D show stages in the moon's cycle around the earth. Which letter shows apogee? The answer is B.<|endofchunk|>\n",
      "ANNOTATED\n"
     ]
    },
    {
     "name": "stderr",
     "output_type": "stream",
     "text": [
      "Setting `pad_token_id` to `eos_token_id`:50277 for open-end generation.\n"
     ]
    },
    {
     "name": "stdout",
     "output_type": "stream",
     "text": [
      "<image>In the diagram, letters A, B, C and D show stages in the moon's cycle around the earth. Which letter shows apogee? The answer is B.<|endofchunk|>\n",
      "CORRECT C\n",
      "Image 2112\n",
      "Image 676\n",
      "the outermost layer of earth is known as:\n",
      "REGULAR\n"
     ]
    },
    {
     "name": "stderr",
     "output_type": "stream",
     "text": [
      "Setting `pad_token_id` to `eos_token_id`:50277 for open-end generation.\n"
     ]
    },
    {
     "name": "stdout",
     "output_type": "stream",
     "text": [
      "<image>the outermost layer of earth is known as: The answer is: The outermost layer of earth is known as: The outermost layer of earth is known as\n",
      "ANNOTATED\n"
     ]
    },
    {
     "name": "stderr",
     "output_type": "stream",
     "text": [
      "Setting `pad_token_id` to `eos_token_id`:50277 for open-end generation.\n"
     ]
    },
    {
     "name": "stdout",
     "output_type": "stream",
     "text": [
      "<image>the outermost layer of earth is known as: The answer is: The outermost layer of earth is known as: The outermost layer of earth is known as\n",
      "CORRECT Crust\n",
      "Image 1128\n",
      "What does G represent ?\n",
      "REGULAR\n"
     ]
    },
    {
     "name": "stderr",
     "output_type": "stream",
     "text": [
      "Setting `pad_token_id` to `eos_token_id`:50277 for open-end generation.\n"
     ]
    },
    {
     "name": "stdout",
     "output_type": "stream",
     "text": [
      "<image>What does G represent? The answer is that it stands for Gynostemma pentaphyllum.<|endofchunk|>\n",
      "ANNOTATED\n"
     ]
    },
    {
     "name": "stderr",
     "output_type": "stream",
     "text": [
      "Setting `pad_token_id` to `eos_token_id`:50277 for open-end generation.\n"
     ]
    },
    {
     "name": "stdout",
     "output_type": "stream",
     "text": [
      "<image>What does G represent? The answer is that it stands for Gynostemma pentaphyllum.<|endofchunk|>\n",
      "CORRECT The Root System\n",
      "Image 2537\n",
      "On which day was the moon a half moon?\n",
      "REGULAR\n"
     ]
    },
    {
     "name": "stderr",
     "output_type": "stream",
     "text": [
      "Setting `pad_token_id` to `eos_token_id`:50277 for open-end generation.\n"
     ]
    },
    {
     "name": "stdout",
     "output_type": "stream",
     "text": [
      "<image>On which day was the moon a half moon? The answer is: July 27, 2012.<|endofchunk|>\n",
      "ANNOTATED\n"
     ]
    },
    {
     "name": "stderr",
     "output_type": "stream",
     "text": [
      "Setting `pad_token_id` to `eos_token_id`:50277 for open-end generation.\n"
     ]
    },
    {
     "name": "stdout",
     "output_type": "stream",
     "text": [
      "<image>On which day was the moon a half moon? The answer is: The moon is always a half-moon. The moon is always a half-moon\n",
      "CORRECT Thursday\n",
      "Image 559\n",
      "What organism is showed in the diagram above?\n",
      "REGULAR\n"
     ]
    },
    {
     "name": "stderr",
     "output_type": "stream",
     "text": [
      "Setting `pad_token_id` to `eos_token_id`:50277 for open-end generation.\n"
     ]
    },
    {
     "name": "stdout",
     "output_type": "stream",
     "text": [
      "<image>What organism is showed in the diagram above? The answer is:<|endofchunk|>\n",
      "ANNOTATED\n"
     ]
    },
    {
     "name": "stderr",
     "output_type": "stream",
     "text": [
      "Setting `pad_token_id` to `eos_token_id`:50277 for open-end generation.\n"
     ]
    },
    {
     "name": "stdout",
     "output_type": "stream",
     "text": [
      "<image>What organism is showed in the diagram above? The answer is:<|endofchunk|>\n",
      "CORRECT Plant\n",
      "Image 2205\n",
      "How many stage shown?\n",
      "REGULAR\n"
     ]
    },
    {
     "name": "stderr",
     "output_type": "stream",
     "text": [
      "Setting `pad_token_id` to `eos_token_id`:50277 for open-end generation.\n"
     ]
    },
    {
     "name": "stdout",
     "output_type": "stream",
     "text": [
      "Image 14\n",
      "According to the given food chain, if sea weeds are washed out due to Tsunami, which one would happen?\n",
      "REGULAR\n"
     ]
    },
    {
     "name": "stderr",
     "output_type": "stream",
     "text": [
      "Setting `pad_token_id` to `eos_token_id`:50277 for open-end generation.\n"
     ]
    }
   ],
   "source": [
    "for i in range(100):\n",
    "    num = random.randint(0, 2555)\n",
    "    try:\n",
    "        print(\"Image\", str(num))\n",
    "        image = getImage(num, False)\n",
    "        annotated_image = getImage(num, True)\n",
    "        question, correctAnswer = getQuestion(num)\n",
    "        print(question)\n",
    "        lang_x = preprocessText(tokenizer, question)\n",
    "\n",
    "        print(\"REGULAR\")\n",
    "        vision_x = preprocessImage(image_processor, image)\n",
    "        reg_answer = generate_text(model, vision_x, lang_x, tokenizer)\n",
    "        print(reg_answer)\n",
    "\n",
    "        print(\"ANNOTATED\")\n",
    "        vision_x = preprocessImage(image_processor, annotated_image)\n",
    "        annotated_answer = generate_text(model, vision_x, lang_x, tokenizer)\n",
    "        print(annotated_answer)\n",
    "\n",
    "        print(\"CORRECT\", correctAnswer)\n",
    "\n",
    "        file_path = \"../ai2d/responses/\" + str(num) + \".txt\"\n",
    "        with open(file_path, \"w\") as file:\n",
    "            # Write the text to the file\n",
    "            text_to_save = reg_answer + \"\\n\" + annotated_answer\n",
    "            file.write(text_to_save)\n",
    "\n",
    "        # start = len(\"<image>\") + len(question) + len(\"The answer is\")\n",
    "        # end = -1 * len(\"<|endofchunk|>\")\n",
    "        # print(similarityScore(eval_model, correctAnswer, answer[start, end]))\n",
    "    except:\n",
    "        continue"
   ]
  },
  {
   "cell_type": "code",
   "execution_count": null,
   "metadata": {},
   "outputs": [],
   "source": [
    "# pip install -U sentence-transformers\n",
    "\n",
    "# from sentence_transformers import SentenceTransformer, util\n",
    "\n",
    "# eval_model = SentenceTransformer('sentence-transformers/all-MiniLM-L6-v2')\n",
    "\n",
    "# def similarityScore(eval_model, realAnswer, modelOutput):\n",
    "#     embedding_1= eval_model.encode(realAnswer, convert_to_tensor=True)\n",
    "#     embedding_2 = eval_model.encode(modelOutput, convert_to_tensor=True)\n",
    "#     return util.pytorch_cos_sim(embedding_1, embedding_2)"
   ]
  }
 ],
 "metadata": {
  "kernelspec": {
   "display_name": "Python 3",
   "language": "python",
   "name": "python3"
  },
  "language_info": {
   "codemirror_mode": {
    "name": "ipython",
    "version": 3
   },
   "file_extension": ".py",
   "mimetype": "text/x-python",
   "name": "python",
   "nbconvert_exporter": "python",
   "pygments_lexer": "ipython3",
   "version": "3.9.6"
  },
  "orig_nbformat": 4
 },
 "nbformat": 4,
 "nbformat_minor": 2
}
