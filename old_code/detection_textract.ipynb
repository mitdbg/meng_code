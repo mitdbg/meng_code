{
 "cells": [
  {
   "cell_type": "code",
   "execution_count": 6,
   "metadata": {},
   "outputs": [
    {
     "name": "stdout",
     "output_type": "stream",
     "text": [
      "Defaulting to user installation because normal site-packages is not writeable\n",
      "Collecting boto3\n",
      "  Obtaining dependency information for boto3 from https://files.pythonhosted.org/packages/b5/61/beed3c4cefad9038d9ff147cdc38168d5c57b5ec2c697e7a52ff32e0bafa/boto3-1.34.40-py3-none-any.whl.metadata\n",
      "  Downloading boto3-1.34.40-py3-none-any.whl.metadata (6.6 kB)\n",
      "Collecting botocore<1.35.0,>=1.34.40 (from boto3)\n",
      "  Obtaining dependency information for botocore<1.35.0,>=1.34.40 from https://files.pythonhosted.org/packages/4b/ca/f86918789bb290e9fb7573df4d496435c91196440479afc2b803f9d615bd/botocore-1.34.40-py3-none-any.whl.metadata\n",
      "  Downloading botocore-1.34.40-py3-none-any.whl.metadata (5.7 kB)\n",
      "Collecting jmespath<2.0.0,>=0.7.1 (from boto3)\n",
      "  Using cached jmespath-1.0.1-py3-none-any.whl (20 kB)\n",
      "Collecting s3transfer<0.11.0,>=0.10.0 (from boto3)\n",
      "  Obtaining dependency information for s3transfer<0.11.0,>=0.10.0 from https://files.pythonhosted.org/packages/12/bb/7e7912e18cd558e7880d9b58ffc57300b2c28ffba9882b3a54ba5ce3ebc4/s3transfer-0.10.0-py3-none-any.whl.metadata\n",
      "  Downloading s3transfer-0.10.0-py3-none-any.whl.metadata (1.7 kB)\n",
      "Requirement already satisfied: python-dateutil<3.0.0,>=2.1 in /Users/sejalgupta/Library/Python/3.9/lib/python/site-packages (from botocore<1.35.0,>=1.34.40->boto3) (2.8.2)\n",
      "Requirement already satisfied: urllib3<1.27,>=1.25.4 in /Users/sejalgupta/Library/Python/3.9/lib/python/site-packages (from botocore<1.35.0,>=1.34.40->boto3) (1.26.16)\n",
      "Requirement already satisfied: six>=1.5 in /Users/sejalgupta/Library/Python/3.9/lib/python/site-packages (from python-dateutil<3.0.0,>=2.1->botocore<1.35.0,>=1.34.40->boto3) (1.16.0)\n",
      "Using cached boto3-1.34.40-py3-none-any.whl (139 kB)\n",
      "Using cached botocore-1.34.40-py3-none-any.whl (12.0 MB)\n",
      "Using cached s3transfer-0.10.0-py3-none-any.whl (82 kB)\n",
      "Installing collected packages: jmespath, botocore, s3transfer, boto3\n",
      "Successfully installed boto3-1.34.40 botocore-1.34.40 jmespath-1.0.1 s3transfer-0.10.0\n",
      "\n",
      "\u001b[1m[\u001b[0m\u001b[34;49mnotice\u001b[0m\u001b[1;39;49m]\u001b[0m\u001b[39;49m A new release of pip is available: \u001b[0m\u001b[31;49m23.2.1\u001b[0m\u001b[39;49m -> \u001b[0m\u001b[32;49m24.0\u001b[0m\n",
      "\u001b[1m[\u001b[0m\u001b[34;49mnotice\u001b[0m\u001b[1;39;49m]\u001b[0m\u001b[39;49m To update, run: \u001b[0m\u001b[32;49m/Library/Developer/CommandLineTools/usr/bin/python3 -m pip install --upgrade pip\u001b[0m\n"
     ]
    }
   ],
   "source": [
    "!pip install boto3"
   ]
  },
  {
   "cell_type": "code",
   "execution_count": 2,
   "metadata": {},
   "outputs": [
    {
     "name": "stdout",
     "output_type": "stream",
     "text": [
      "\u001b[94m(a)\u001b[0m\n",
      "\u001b[94m2\u001b[0m\n",
      "\u001b[94m1 mol L LiPF6 in EC/DMC\u001b[0m\n",
      "\u001b[94m1.2 mol L-1 LiPF6 in FEC/FEMC/TFEB\u001b[0m\n",
      "\u001b[94m1\u001b[0m\n",
      "\u001b[94m0\u001b[0m\n",
      "\u001b[94m-1\u001b[0m\n",
      "\u001b[94m3\u001b[0m\n",
      "\u001b[94m4\u001b[0m\n",
      "\u001b[94m5\u001b[0m\n",
      "\u001b[94m6\u001b[0m\n",
      "\u001b[94m(c)\u001b[0m\n",
      "\u001b[94mVoltage (V)\u001b[0m\n"
     ]
    }
   ],
   "source": [
    "import boto3\n",
    "\n",
    "# Document\n",
    "documentName = \"../plot_images/1.png\"\n",
    "\n",
    "# Read document content\n",
    "with open(documentName, 'rb') as document:\n",
    "    imageBytes = bytearray(document.read())\n",
    "\n",
    "# Amazon Textract client\n",
    "textract = boto3.client('textract')\n",
    "\n",
    "# Call Amazon Textract\n",
    "response = textract.detect_document_text(Document={'Bytes': imageBytes})\n",
    "\n",
    "#print(response)\n",
    "\n",
    "# Print detected text\n",
    "for item in response[\"Blocks\"]:\n",
    "    if item[\"BlockType\"] == \"LINE\":\n",
    "        print ('\\033[94m' +  item[\"Text\"] + '\\033[0m')"
   ]
  },
  {
   "cell_type": "code",
   "execution_count": null,
   "metadata": {},
   "outputs": [],
   "source": []
  }
 ],
 "metadata": {
  "kernelspec": {
   "display_name": "Python 3",
   "language": "python",
   "name": "python3"
  },
  "language_info": {
   "codemirror_mode": {
    "name": "ipython",
    "version": 3
   },
   "file_extension": ".py",
   "mimetype": "text/x-python",
   "name": "python",
   "nbconvert_exporter": "python",
   "pygments_lexer": "ipython3",
   "version": "3.9.6"
  }
 },
 "nbformat": 4,
 "nbformat_minor": 2
}
