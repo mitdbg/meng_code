{
 "cells": [
  {
   "cell_type": "code",
   "execution_count": 2,
   "metadata": {},
   "outputs": [],
   "source": [
    "import cv2\n",
    "from sklearn.cluster import KMeans"
   ]
  },
  {
   "cell_type": "code",
   "execution_count": 3,
   "metadata": {},
   "outputs": [],
   "source": [
    "class DominantColors:\n",
    "\n",
    "    CLUSTERS = None\n",
    "    IMAGE = None\n",
    "    COLORS = None\n",
    "    LABELS = None\n",
    "    \n",
    "    def __init__(self, image, clusters=3):\n",
    "        self.CLUSTERS = clusters\n",
    "        self.IMAGE = image\n",
    "        \n",
    "    def dominantColors(self):\n",
    "    \n",
    "        #read image\n",
    "        img = cv2.imread(self.IMAGE)\n",
    "        \n",
    "        #convert to rgb from bgr\n",
    "        img = cv2.cvtColor(img, cv2.COLOR_BGR2RGB)\n",
    "                \n",
    "        #reshaping to a list of pixels\n",
    "        img = img.reshape((img.shape[0] * img.shape[1], 3))\n",
    "        \n",
    "        #save image after operations\n",
    "        self.IMAGE = img\n",
    "        \n",
    "        #using k-means to cluster pixels\n",
    "        kmeans = KMeans(n_clusters = self.CLUSTERS)\n",
    "        kmeans.fit(img)\n",
    "        \n",
    "        #the cluster centers are our dominant colors.\n",
    "        self.COLORS = kmeans.cluster_centers_\n",
    "        \n",
    "        #save labels\n",
    "        self.LABELS = kmeans.labels_\n",
    "        \n",
    "        #returning after converting to integer from float\n",
    "        return self.COLORS.astype(int)"
   ]
  },
  {
   "cell_type": "code",
   "execution_count": 5,
   "metadata": {},
   "outputs": [
    {
     "name": "stderr",
     "output_type": "stream",
     "text": [
      "/Users/sejalgupta/Library/Python/3.9/lib/python/site-packages/sklearn/cluster/_kmeans.py:1412: FutureWarning: The default value of `n_init` will change from 10 to 'auto' in 1.4. Set the value of `n_init` explicitly to suppress the warning\n",
      "  super()._check_params_vs_input(X, default_n_init=10)\n"
     ]
    },
    {
     "name": "stdout",
     "output_type": "stream",
     "text": [
      "[[102 101 131]\n",
      " [254 254 254]\n",
      " [ 35  34  35]\n",
      " [197 169 208]]\n"
     ]
    }
   ],
   "source": [
    "img = '../plot_images/1.png'\n",
    "clusters = 4\n",
    "dc = DominantColors(img, clusters) \n",
    "colors = dc.dominantColors()\n",
    "print(colors)"
   ]
  },
  {
   "cell_type": "code",
   "execution_count": 6,
   "metadata": {},
   "outputs": [],
   "source": [
    "import math\n",
    "colors = {\n",
    "    \"black\": (0, 0, 0),\n",
    "    \"grey\": (128, 128, 128),\n",
    "    \"white\": (255, 255, 255),\n",
    "    \"red\": (255, 0, 0),\n",
    "    \"purple\": (128, 0, 128),\n",
    "    \"green\": (0, 255, 0),\n",
    "    \"yellow\": (255, 255, 0),\n",
    "    \"blue\": (0, 0, 255),\n",
    "    \"pink\": (255,20,147),\n",
    "    \"orange\": (255, 165, 0),\n",
    "}\n",
    "\n",
    "def distance(a,b):\n",
    "    dx = a[0]-b[0]\n",
    "    dy = a[1]-b[1]\n",
    "    dz = a[2]-b[2]\n",
    "    dist = math.sqrt(dx*dx+dy*dy+dz*dz)\n",
    "    return dist\n",
    "\n",
    "def get_nearest_color(input_pixel):\n",
    "    mn = 999999\n",
    "    color = ''\n",
    "    p1, p2, p3 = input_pixel\n",
    "    for name in [\"pink\", \"blue\", \"white\", \"black\"]:\n",
    "        rgb = colors[name]\n",
    "        d = distance((p1, p2, p3), rgb)\n",
    "        if d < mn:\n",
    "            mn = d\n",
    "            color = name\n",
    "    return color"
   ]
  },
  {
   "cell_type": "code",
   "execution_count": 7,
   "metadata": {},
   "outputs": [
    {
     "data": {
      "text/plain": [
       "'pink'"
      ]
     },
     "execution_count": 7,
     "metadata": {},
     "output_type": "execute_result"
    }
   ],
   "source": [
    "get_nearest_color((102, 101, 131))"
   ]
  },
  {
   "cell_type": "code",
   "execution_count": 8,
   "metadata": {},
   "outputs": [
    {
     "data": {
      "text/plain": [
       "'white'"
      ]
     },
     "execution_count": 8,
     "metadata": {},
     "output_type": "execute_result"
    }
   ],
   "source": [
    "get_nearest_color((254, 254, 254))"
   ]
  },
  {
   "cell_type": "code",
   "execution_count": 9,
   "metadata": {},
   "outputs": [
    {
     "data": {
      "text/plain": [
       "'black'"
      ]
     },
     "execution_count": 9,
     "metadata": {},
     "output_type": "execute_result"
    }
   ],
   "source": [
    "get_nearest_color((35,  34,  35))"
   ]
  },
  {
   "cell_type": "code",
   "execution_count": 10,
   "metadata": {},
   "outputs": [
    {
     "data": {
      "text/plain": [
       "'white'"
      ]
     },
     "execution_count": 10,
     "metadata": {},
     "output_type": "execute_result"
    }
   ],
   "source": [
    "get_nearest_color((197, 169, 208))"
   ]
  },
  {
   "cell_type": "code",
   "execution_count": null,
   "metadata": {},
   "outputs": [],
   "source": []
  }
 ],
 "metadata": {
  "kernelspec": {
   "display_name": "Python 3",
   "language": "python",
   "name": "python3"
  },
  "language_info": {
   "codemirror_mode": {
    "name": "ipython",
    "version": 3
   },
   "file_extension": ".py",
   "mimetype": "text/x-python",
   "name": "python",
   "nbconvert_exporter": "python",
   "pygments_lexer": "ipython3",
   "version": "3.9.6"
  }
 },
 "nbformat": 4,
 "nbformat_minor": 2
}
