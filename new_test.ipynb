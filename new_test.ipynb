{
 "cells": [
  {
   "cell_type": "code",
   "execution_count": 3,
   "metadata": {},
   "outputs": [],
   "source": [
    "import pytesseract\n",
    "import argparse\n",
    "import cv2\n",
    "import re"
   ]
  },
  {
   "cell_type": "code",
   "execution_count": 4,
   "metadata": {},
   "outputs": [],
   "source": [
    "# load the input image from disk, resize it, and compute the ratio\n",
    "# of the *new* width to the *old* width\n",
    "orig = cv2.imread('../plot_images/1.png')\n",
    "image = orig.copy()"
   ]
  },
  {
   "cell_type": "code",
   "execution_count": 5,
   "metadata": {},
   "outputs": [
    {
     "name": "stdout",
     "output_type": "stream",
     "text": [
      "[INFO] raw output:\n",
      "==================\n",
      "—1 mol L\" LiPF, in EC/DMC\n",
      "——1.2 mol L\" LiPF, in FEC/FEMC/TFEB|\n",
      "\n",
      "Voltage (V)\n",
      "\n",
      "\n",
      "\n"
     ]
    }
   ],
   "source": [
    "# apply OCR to the receipt image by assuming column data, ensuring\n",
    "# the text is *concatenated across the row* (additionally, for your\n",
    "# own images you may need to apply additional processing to cleanup\n",
    "# the image, including resizing, thresholding, etc.)\n",
    "options = \"--psm 4\"\n",
    "text = pytesseract.image_to_string(\n",
    "\tcv2.cvtColor(image, cv2.COLOR_BGR2RGB),\n",
    "\tconfig=options)\n",
    "# show the raw output of the OCR process\n",
    "print(\"[INFO] raw output:\")\n",
    "print(\"==================\")\n",
    "print(text)\n",
    "print(\"\\n\")\n"
   ]
  },
  {
   "cell_type": "code",
   "execution_count": 6,
   "metadata": {},
   "outputs": [
    {
     "name": "stdout",
     "output_type": "stream",
     "text": [
      "[INFO] price line items:\n",
      "========================\n",
      "——1.2 mol L\" LiPF, in FEC/FEMC/TFEB|\n"
     ]
    }
   ],
   "source": [
    "# define a regular expression that will match line items that include\n",
    "# a price component\n",
    "pricePattern = r'([0-9]+\\.[0-9]+)'\n",
    "# show the output of filtering out *only* the line items in the\n",
    "# receipt\n",
    "print(\"[INFO] price line items:\")\n",
    "print(\"========================\")\n",
    "# loop over each of the line items in the OCR'd receipt\n",
    "for row in text.split(\"\\n\"):\n",
    "\t# check to see if the price regular expression matches the current\n",
    "\t# row\n",
    "\tif re.search(pricePattern, row) is not None:\n",
    "\t\tprint(row)"
   ]
  },
  {
   "cell_type": "code",
   "execution_count": null,
   "metadata": {},
   "outputs": [],
   "source": []
  }
 ],
 "metadata": {
  "kernelspec": {
   "display_name": "Python 3",
   "language": "python",
   "name": "python3"
  },
  "language_info": {
   "codemirror_mode": {
    "name": "ipython",
    "version": 3
   },
   "file_extension": ".py",
   "mimetype": "text/x-python",
   "name": "python",
   "nbconvert_exporter": "python",
   "pygments_lexer": "ipython3",
   "version": "3.9.6"
  }
 },
 "nbformat": 4,
 "nbformat_minor": 2
}
