{
 "cells": [
  {
   "cell_type": "code",
   "execution_count": 5,
   "metadata": {},
   "outputs": [],
   "source": [
    "import base64\n",
    "import requests\n",
    "import json\n",
    "from utils import *"
   ]
  },
  {
   "cell_type": "code",
   "execution_count": 12,
   "metadata": {},
   "outputs": [],
   "source": [
    "# Function to encode the image to base64\n",
    "def encode_image(image_path):\n",
    "    with open(image_path, \"rb\") as image_file:\n",
    "        encoded_string = base64.b64encode(image_file.read()).decode()\n",
    "    return encoded_string\n",
    "\n",
    "def get_metadata_gpt(image_name):\n",
    "\n",
    "    '''\n",
    "    PROMPT TO GPT\n",
    "    ------------------\n",
    "\n",
    "    Based on the plot:\n",
    "\n",
    "    1. What is the title of the x-axis?\n",
    "    2. What is the range of the x-axis?\n",
    "    3. What is the title of the y-axis?\n",
    "    4. What is the range of the y-axis?\n",
    "    5. What are the different types?\n",
    "\n",
    "    Can you provide the answers to the aforementioned questions in the following format:\n",
    "\n",
    "    answers = {\n",
    "    \"x-axis\": {\n",
    "    \"title\": [INSERT TITLE HERE IN STRING FORMAT],\n",
    "    \"range\":  [INSERT RANGE HERE IN NUMERICAL FORMAT],\n",
    "    },\n",
    "    \"y-axis\": {\n",
    "    \"title\": [INSERT TITLE HERE IN STRING FORMAT],\n",
    "    \"range\":  [INSERT RANGE HERE IN NUMERICAL FORMAT],\n",
    "    },\n",
    "    \"types\": [INSERT THE TYPES IN LIST OF LISTS OF LENGTH = 2 WHERE EACH LIST LOOKS LIKE [TYPE NAME, MARKER COLOR in \"black\", \"white\", \"red\",\"green\",\"blue\", \"yellow\", \"magenta\", \"cyan\", \"grey\"]]\n",
    "    }\n",
    "\n",
    "    '''\n",
    "\n",
    "    answers = None\n",
    "    \n",
    "    # Encode the image\n",
    "    encoded_image = encode_image(image_name)\n",
    "\n",
    "    headers = {\n",
    "    \"Content-Type\": \"application/json\",\n",
    "    \"Authorization\": f\"Bearer {API_KEY}\"\n",
    "    }\n",
    "\n",
    "    payload = {\n",
    "    \"model\": \"gpt-4-vision-preview\",\n",
    "    \"messages\": [\n",
    "        {\n",
    "        \"role\": \"user\",\n",
    "        \"content\": [\n",
    "            {\n",
    "            \"type\": \"text\",\n",
    "            \"text\": \"Based on the plot: 1. Describe the title of the x-axis? 2. Describe the range of the x-axis? 3. Describe the title of the y-axis 4. Describe the range of the y-axis? 5. Describe the different types? Can you provide the answers to the aforementioned questions in the following format: answers = { \\\"x-axis\\\": { \\\"title\\\": [INSERT TITLE HERE IN STRING FORMAT], \\\"range\\\":  [INSERT RANGE HERE IN NUMERICAL FORMAT],}, \\\"y-axis\\\": { \\\"title\\\": [INSERT TITLE HERE IN STRING FORMAT], \\\"range\\\":  [INSERT RANGE HERE IN NUMERICAL FORMAT], }, \\\"types\\\": [INSERT THE TYPES IN LIST OF TUPLES OF LENGTH = 2 WHERE EACH TUPLE LOOKS LIKE (TYPE NAME, MARKER COLOR in \\\"black\\\", \\\"white\\\", \\\"red\\\",\\\"green\\\",\\\"blue\\\", \\\"yellow\\\", \\\"magenta\\\", \\\"cyan\\\", \\\"grey\\\")]}\"\n",
    "            },\n",
    "            {\n",
    "            \"type\": \"image_url\",\n",
    "            \"image_url\": {\n",
    "                \"url\": f\"data:image/jpeg;base64,{encoded_image}\"\n",
    "            }\n",
    "            }\n",
    "        ]\n",
    "        }\n",
    "    ],\n",
    "    \"max_tokens\": 300\n",
    "    }\n",
    "\n",
    "    response = requests.post(\"https://api.openai.com/v1/chat/completions\", headers=headers, json=payload)\n",
    "\n",
    "    # Check if the response is successful\n",
    "    if response.status_code == 200:\n",
    "        print(\"here\")\n",
    "        # Parse the response as JSON\n",
    "        answers = response.json()\n",
    "    else:\n",
    "        # Handle errors (non-200 responses)\n",
    "        print(f\"Error: {response.status_code} - {response.text}\")\n",
    "\n",
    "    return answers"
   ]
  },
  {
   "cell_type": "code",
   "execution_count": 7,
   "metadata": {},
   "outputs": [],
   "source": [
    "image_number = 6"
   ]
  },
  {
   "cell_type": "code",
   "execution_count": 14,
   "metadata": {},
   "outputs": [
    {
     "name": "stdout",
     "output_type": "stream",
     "text": [
      "here\n"
     ]
    }
   ],
   "source": [
    "image_name = '../plot_images/'+str(image_number)+'.png'\n",
    "answers = get_metadata_gpt(image_name)"
   ]
  },
  {
   "cell_type": "code",
   "execution_count": 15,
   "metadata": {},
   "outputs": [
    {
     "data": {
      "text/plain": [
       "{'id': 'chatcmpl-8N20zSpwcIr4AezmXj7sYOMz91j64',\n",
       " 'object': 'chat.completion',\n",
       " 'created': 1700499981,\n",
       " 'model': 'gpt-4-1106-vision-preview',\n",
       " 'usage': {'prompt_tokens': 457,\n",
       "  'completion_tokens': 292,\n",
       "  'total_tokens': 749},\n",
       " 'choices': [{'message': {'role': 'assistant',\n",
       "    'content': 'Given that I cannot clearly read the details due to the image resolution, I can only provide rough estimations based on what can be interpreted from the provided image:\\n\\nanswers = {\\n  \"x-axis\": {\\n    \"title\": \"Specific Capacity (mAh g^-1)\",\\n    \"range\": [0, 50],  # Estimation based on visible plot markings\\n  },\\n  \"y-axis\": {\\n    \"title\": \"Voltage (V)\",\\n    \"range\": [-0.2, 1.2],  # Estimation based on visible plot markings\\n  },\\n  \"types\": [\\n    (\"1st\", \"black\"),  # Assuming the first line color corresponds to the \\'1st\\' cycle\\n    (\"2nd\", \"red\"),    # Assuming the 2nd line color corresponds to the \\'2nd\\' cycle\\n    (\"10th\", \"green\"),  # Assuming from the pattern that the \\'10th\\' cycle is green\\n    # Additional types would be added here following the list in the inset,\\n    # but the colors are not clearly distinguishable in the provided image.\\n  ]\\n}\\n\\nIt should be noted that the estimation of the types and marker colors may be inaccurate due to the inability to clearly see or confirm the colors or their correspondence to each cycle in the provided plot image. For the most accurate information, the actual plot details and colors should be referenced from a clearer image or the source document.'},\n",
       "   'finish_details': {'type': 'stop', 'stop': '<|fim_suffix|>'},\n",
       "   'index': 0}]}"
      ]
     },
     "execution_count": 15,
     "metadata": {},
     "output_type": "execute_result"
    }
   ],
   "source": [
    "answers"
   ]
  },
  {
   "cell_type": "code",
   "execution_count": null,
   "metadata": {},
   "outputs": [],
   "source": []
  }
 ],
 "metadata": {
  "kernelspec": {
   "display_name": "Python 3",
   "language": "python",
   "name": "python3"
  },
  "language_info": {
   "codemirror_mode": {
    "name": "ipython",
    "version": 3
   },
   "file_extension": ".py",
   "mimetype": "text/x-python",
   "name": "python",
   "nbconvert_exporter": "python",
   "pygments_lexer": "ipython3",
   "version": "3.9.6"
  }
 },
 "nbformat": 4,
 "nbformat_minor": 2
}
